{
 "cells": [
  {
   "attachments": {},
   "cell_type": "markdown",
   "metadata": {},
   "source": [
    "# An example notebook for Py4DS course  <a class=\"anchor\" id=\"top\"></a>\n",
    "This notebook is to show you some of the most useful features of Jupyter notebooks. \n",
    "\n"
   ]
  },
  {
   "attachments": {},
   "cell_type": "markdown",
   "metadata": {},
   "source": [
    "## Table of Contents\n",
    "1. [Notebook Tips](#notebook-tips)\n",
    "   1. [Magic Commands](#magic-commands)\n",
    "   2. [Kernel](#kernel)\n",
    "   3. [Command mode](#command-mode)\n",
    "2. [Coding Best-Practices in Jupyter](#coding-in-jupyter)\n",
    "3. [Reproducibility](#reproducibility)"
   ]
  },
  {
   "attachments": {},
   "cell_type": "markdown",
   "metadata": {},
   "source": [
    "## Notebook Tips <a class=\"anchor\" id=\"notebook-tips\"></a>"
   ]
  },
  {
   "attachments": {},
   "cell_type": "markdown",
   "metadata": {},
   "source": [
    "### [Magic Commands](https://ipython.readthedocs.io/en/stable/interactive/magics.html) <a id='magic-commands'></a>"
   ]
  },
  {
   "cell_type": "code",
   "execution_count": 7,
   "metadata": {},
   "outputs": [
    {
     "data": {
      "text/markdown": [
       "1. Use `%%time` to measure the execution time of a cell\n",
       "2. Use `%%timeit` to measure the execution time of a cell multiple times\n",
       "\n",
       "For more magic commands, see [here](https://ipython.readthedocs.io/en/stable/interactive/magics.html).\n"
      ],
      "text/plain": [
       "<IPython.core.display.Markdown object>"
      ]
     },
     "metadata": {},
     "output_type": "display_data"
    }
   ],
   "source": [
    "%%markdown\n",
    "1. Use `%%time` to measure the execution time of a cell\n",
    "2. Use `%%timeit` to measure the execution time of a cell multiple times\n",
    "\n",
    "For more magic commands, see [here](https://ipython.readthedocs.io/en/stable/interactive/magics.html)."
   ]
  },
  {
   "attachments": {},
   "cell_type": "markdown",
   "metadata": {},
   "source": [
    "### [Kernel](#kernel)\n",
    "\n",
    "Apart from the markdown or similar content cells, you need a kernel to run any code cells. The kernel is the computational engine that runs the code in the notebook. You can change the kernel to Python 2 or 3, or even MATLAB, R, Julia, or Scala. We will go through the Python 3 kernel in this notebook."
   ]
  },
  {
   "attachments": {},
   "cell_type": "markdown",
   "metadata": {},
   "source": [
    "I'll go with the Python 3.10.9 kernel that I specifically created for this course with name `ds201` (you can see it in the top right corner of the notebook).\n",
    "\n",
    "![](./screenshot.png)"
   ]
  },
  {
   "attachments": {},
   "cell_type": "markdown",
   "metadata": {},
   "source": [
    "The kernel should have at least the following packages installed:\n",
    "`ipykernel` and `ipython`\n",
    "\n",
    "You can install them by running the following command in the terminal (when the correct kernel is activated):\n",
    "\n",
    "`python -m pip install ipykernel ipython`"
   ]
  },
  {
   "attachments": {},
   "cell_type": "markdown",
   "metadata": {},
   "source": [
    "### Command mode <a class=\"anchor\" id=\"command-mode\"></a>\n",
    "\n",
    "You can start any code cell with `!` to run it as a shell command. For example, you can use `!ls` to list the files in the current directory.\n",
    "\n",
    "We mostly use this feature to install packages. For example, we can install the `numpy` package by running the following code cell.\n",
    "\n",
    "    !pip install numpy"
   ]
  },
  {
   "cell_type": "code",
   "execution_count": 8,
   "metadata": {},
   "outputs": [
    {
     "name": "stdout",
     "output_type": "stream",
     "text": [
      "1_notebook.ipynb 2_numpy.ipynb    screenshot.png\n"
     ]
    }
   ],
   "source": [
    "!ls"
   ]
  },
  {
   "cell_type": "code",
   "execution_count": 3,
   "metadata": {},
   "outputs": [
    {
     "name": "stdout",
     "output_type": "stream",
     "text": [
      "Collecting numpy\n",
      "  Using cached numpy-1.24.2-cp310-cp310-macosx_11_0_arm64.whl (13.9 MB)\n",
      "Installing collected packages: numpy\n",
      "Successfully installed numpy-1.24.2\n"
     ]
    }
   ],
   "source": [
    "! pip install numpy"
   ]
  },
  {
   "attachments": {},
   "cell_type": "markdown",
   "metadata": {},
   "source": [
    "## Coding Best-Practices in Jupyter <a class=\"anchor\" id=\"coding-in-jupyter\"></a>\n",
    "\n",
    "1. Always keep in mind that the notebook is a document for your fellow scientists. It's not a script for your computer. Thus, have your author attitude and aim for readability.\n",
    "2. Divide your task into submodules and create a separate notebook for each submodule, if other wise the notebook will be too long and complex.\n",
    "3. Use markdown cells to explain your code. \n",
    "4. Keep your notebook clean and organized.\n",
    "5. Try to keep your code cells short and simple. It's easier to debug and understand.\n",
    "6. Use meaningful variable names. It's always easier to understand the code and debug.\n",
    "7. Import all the packages at the beginning of the notebook or their respective titles. It's easier for your audience to see what packages you are using and prepare the kernel before running the notebook.\n",
    "8. Once finished, restart the kernel and run the notebook from top to bottom to make sure everything works as expected.\n",
    "9. It's always a good idea to add a table of contents to your notebook."
   ]
  },
  {
   "attachments": {},
   "cell_type": "markdown",
   "metadata": {},
   "source": [
    "You can check the [other notebook](./2_notebook.ipynb) for a small reproducible example."
   ]
  },
  {
   "attachments": {},
   "cell_type": "markdown",
   "metadata": {},
   "source": [
    "## Reproducibility <a class=\"anchor\" id=\"reproducibility\"></a>\n",
    "\n",
    "This is a very important topic in science for reducing the bias in the results and let your peers investigate/use your work. It's also very important in data science. You can read more about it [here](https://www.nature.com/articles/d41586-018-07196-1).\n",
    "\n",
    "It can even be hard for yourselves to reproduce your work after a few months. Making any claim that you cannot reproduce is a big red flag for your audience. Be extremely careful about this."
   ]
  },
  {
   "attachments": {},
   "cell_type": "markdown",
   "metadata": {},
   "source": [
    "* [Go Top!](#top)"
   ]
  },
  {
   "cell_type": "markdown",
   "metadata": {},
   "source": []
  }
 ],
 "metadata": {
  "kernelspec": {
   "display_name": "ds201",
   "language": "python",
   "name": "python3"
  },
  "language_info": {
   "codemirror_mode": {
    "name": "ipython",
    "version": 3
   },
   "file_extension": ".py",
   "mimetype": "text/x-python",
   "name": "python",
   "nbconvert_exporter": "python",
   "pygments_lexer": "ipython3",
   "version": "3.10.9"
  },
  "orig_nbformat": 4
 },
 "nbformat": 4,
 "nbformat_minor": 2
}
